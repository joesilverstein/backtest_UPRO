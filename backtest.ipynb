{
 "cells": [
  {
   "cell_type": "code",
   "execution_count": 27,
   "metadata": {},
   "outputs": [],
   "source": [
    "import pandas as pd\n",
    "import matplotlib as plt\n",
    "import numpy as np"
   ]
  },
  {
   "cell_type": "code",
   "execution_count": 4,
   "metadata": {},
   "outputs": [],
   "source": [
    "# sourced from stooq.com\n",
    "spx_df = pd.read_csv('SPX.csv', parse_dates=['Date'])"
   ]
  },
  {
   "cell_type": "code",
   "execution_count": 5,
   "metadata": {},
   "outputs": [],
   "source": [
    "# sourced from Yahoo Finance\n",
    "upro_df = pd.read_csv('UPRO.csv', parse_dates=['Date'])"
   ]
  },
  {
   "cell_type": "code",
   "execution_count": 6,
   "metadata": {},
   "outputs": [],
   "source": [
    "spx_df.set_index('Date', inplace=True)"
   ]
  },
  {
   "cell_type": "code",
   "execution_count": 7,
   "metadata": {},
   "outputs": [],
   "source": [
    "upro_df.set_index('Date', inplace=True)"
   ]
  },
  {
   "cell_type": "code",
   "execution_count": 8,
   "metadata": {},
   "outputs": [],
   "source": [
    "df = pd.concat([spx_df.Close, upro_df.Close], axis=1)"
   ]
  },
  {
   "cell_type": "code",
   "execution_count": 9,
   "metadata": {},
   "outputs": [],
   "source": [
    "df.columns = ['SPX_Close', 'UPRO_Close']"
   ]
  },
  {
   "cell_type": "code",
   "execution_count": 10,
   "metadata": {},
   "outputs": [
    {
     "data": {
      "text/plain": [
       "SPX_Close     0\n",
       "UPRO_Close    0\n",
       "dtype: int64"
      ]
     },
     "execution_count": 10,
     "metadata": {},
     "output_type": "execute_result"
    }
   ],
   "source": [
    "df.isnull().sum()"
   ]
  },
  {
   "cell_type": "code",
   "execution_count": 11,
   "metadata": {},
   "outputs": [
    {
     "data": {
      "text/plain": [
       "(3394, 2)"
      ]
     },
     "execution_count": 11,
     "metadata": {},
     "output_type": "execute_result"
    }
   ],
   "source": [
    "df.shape"
   ]
  },
  {
   "cell_type": "code",
   "execution_count": 12,
   "metadata": {},
   "outputs": [
    {
     "data": {
      "text/html": [
       "<div>\n",
       "<style scoped>\n",
       "    .dataframe tbody tr th:only-of-type {\n",
       "        vertical-align: middle;\n",
       "    }\n",
       "\n",
       "    .dataframe tbody tr th {\n",
       "        vertical-align: top;\n",
       "    }\n",
       "\n",
       "    .dataframe thead th {\n",
       "        text-align: right;\n",
       "    }\n",
       "</style>\n",
       "<table border=\"1\" class=\"dataframe\">\n",
       "  <thead>\n",
       "    <tr style=\"text-align: right;\">\n",
       "      <th></th>\n",
       "      <th>SPX_Close</th>\n",
       "      <th>UPRO_Close</th>\n",
       "    </tr>\n",
       "    <tr>\n",
       "      <th>Date</th>\n",
       "      <th></th>\n",
       "      <th></th>\n",
       "    </tr>\n",
       "  </thead>\n",
       "  <tbody>\n",
       "    <tr>\n",
       "      <th>2009-06-26</th>\n",
       "      <td>918.90</td>\n",
       "      <td>1.199306</td>\n",
       "    </tr>\n",
       "    <tr>\n",
       "      <th>2009-06-29</th>\n",
       "      <td>927.23</td>\n",
       "      <td>1.233333</td>\n",
       "    </tr>\n",
       "    <tr>\n",
       "      <th>2009-06-30</th>\n",
       "      <td>919.32</td>\n",
       "      <td>1.203889</td>\n",
       "    </tr>\n",
       "    <tr>\n",
       "      <th>2009-07-01</th>\n",
       "      <td>923.33</td>\n",
       "      <td>1.216806</td>\n",
       "    </tr>\n",
       "    <tr>\n",
       "      <th>2009-07-02</th>\n",
       "      <td>896.42</td>\n",
       "      <td>1.116389</td>\n",
       "    </tr>\n",
       "  </tbody>\n",
       "</table>\n",
       "</div>"
      ],
      "text/plain": [
       "            SPX_Close  UPRO_Close\n",
       "Date                             \n",
       "2009-06-26     918.90    1.199306\n",
       "2009-06-29     927.23    1.233333\n",
       "2009-06-30     919.32    1.203889\n",
       "2009-07-01     923.33    1.216806\n",
       "2009-07-02     896.42    1.116389"
      ]
     },
     "execution_count": 12,
     "metadata": {},
     "output_type": "execute_result"
    }
   ],
   "source": [
    "df.head()"
   ]
  },
  {
   "cell_type": "code",
   "execution_count": 13,
   "metadata": {},
   "outputs": [],
   "source": [
    "norm_factor = df.SPX_Close[0] / df.UPRO_Close[0]"
   ]
  },
  {
   "cell_type": "code",
   "execution_count": 14,
   "metadata": {},
   "outputs": [
    {
     "data": {
      "text/plain": [
       "766.1931150181855"
      ]
     },
     "execution_count": 14,
     "metadata": {},
     "output_type": "execute_result"
    }
   ],
   "source": [
    "norm_factor"
   ]
  },
  {
   "cell_type": "code",
   "execution_count": 15,
   "metadata": {},
   "outputs": [],
   "source": [
    "df['SPX_normalized'] = df.SPX_Close / norm_factor"
   ]
  },
  {
   "cell_type": "code",
   "execution_count": 16,
   "metadata": {},
   "outputs": [
    {
     "data": {
      "text/plain": [
       "<AxesSubplot:xlabel='Date'>"
      ]
     },
     "execution_count": 16,
     "metadata": {},
     "output_type": "execute_result"
    },
    {
     "data": {
      "image/png": "[encoded data removed]",
      "text/plain": [
       "<Figure size 432x288 with 1 Axes>"
      ]
     },
     "metadata": {
      "needs_background": "light"
     },
     "output_type": "display_data"
    }
   ],
   "source": [
    "df[['SPX_normalized', 'UPRO_Close']].plot()"
   ]
  },
  {
   "cell_type": "code",
   "execution_count": 34,
   "metadata": {},
   "outputs": [],
   "source": [
    "# numbers as of EOD 12-20-22 (pretend these were the numbers as of EOD 06-26-09):\n",
    "init_nlv = 89390 # initial net liquidation value\n",
    "init_gpv = 117252 # initial gross position value (total value of shares)\n",
    "# for simplicity, just calculate init_cash as init_nlv - init_gpv (not exactly correct, but close)\n",
    "init_cash = init_nlv - init_gpv # negative by convention\n",
    "# init_cash = -27768\n",
    "# init_mtd_int = -94 # interest will only be charged at end of month\n",
    "init_ex_liq = 1452 # initial excess liquidity\n",
    "# assume that this is the max gpv/nlv proportion before liquidation occurs\n",
    "max_margin_factor = (init_gpv + init_ex_liq) / init_nlv\n",
    "int_rate_100K = 0.0583 # interest rate up to $100K\n",
    "int_rate_1M = 0.0533 # interest rate up to $1M"
   ]
  },
  {
   "cell_type": "code",
   "execution_count": 36,
   "metadata": {},
   "outputs": [
    {
     "data": {
      "text/plain": [
       "1.3279337733527241"
      ]
     },
     "execution_count": 36,
     "metadata": {},
     "output_type": "execute_result"
    }
   ],
   "source": [
    "max_margin_factor"
   ]
  },
  {
   "cell_type": "code",
   "execution_count": 29,
   "metadata": {},
   "outputs": [],
   "source": [
    "# fill-in missing dates\n",
    "df = df.resample('D').sum().replace(0, np.nan)"
   ]
  },
  {
   "cell_type": "code",
   "execution_count": 30,
   "metadata": {},
   "outputs": [
    {
     "data": {
      "text/html": [
       "<div>\n",
       "<style scoped>\n",
       "    .dataframe tbody tr th:only-of-type {\n",
       "        vertical-align: middle;\n",
       "    }\n",
       "\n",
       "    .dataframe tbody tr th {\n",
       "        vertical-align: top;\n",
       "    }\n",
       "\n",
       "    .dataframe thead th {\n",
       "        text-align: right;\n",
       "    }\n",
       "</style>\n",
       "<table border=\"1\" class=\"dataframe\">\n",
       "  <thead>\n",
       "    <tr style=\"text-align: right;\">\n",
       "      <th></th>\n",
       "      <th>SPX_Close</th>\n",
       "      <th>UPRO_Close</th>\n",
       "      <th>SPX_normalized</th>\n",
       "    </tr>\n",
       "    <tr>\n",
       "      <th>Date</th>\n",
       "      <th></th>\n",
       "      <th></th>\n",
       "      <th></th>\n",
       "    </tr>\n",
       "  </thead>\n",
       "  <tbody>\n",
       "    <tr>\n",
       "      <th>2009-06-26</th>\n",
       "      <td>918.90</td>\n",
       "      <td>1.199306</td>\n",
       "      <td>1.199306</td>\n",
       "    </tr>\n",
       "    <tr>\n",
       "      <th>2009-06-27</th>\n",
       "      <td>NaN</td>\n",
       "      <td>NaN</td>\n",
       "      <td>NaN</td>\n",
       "    </tr>\n",
       "    <tr>\n",
       "      <th>2009-06-28</th>\n",
       "      <td>NaN</td>\n",
       "      <td>NaN</td>\n",
       "      <td>NaN</td>\n",
       "    </tr>\n",
       "    <tr>\n",
       "      <th>2009-06-29</th>\n",
       "      <td>927.23</td>\n",
       "      <td>1.233333</td>\n",
       "      <td>1.210178</td>\n",
       "    </tr>\n",
       "    <tr>\n",
       "      <th>2009-06-30</th>\n",
       "      <td>919.32</td>\n",
       "      <td>1.203889</td>\n",
       "      <td>1.199854</td>\n",
       "    </tr>\n",
       "    <tr>\n",
       "      <th>...</th>\n",
       "      <td>...</td>\n",
       "      <td>...</td>\n",
       "      <td>...</td>\n",
       "    </tr>\n",
       "    <tr>\n",
       "      <th>2022-12-12</th>\n",
       "      <td>3990.56</td>\n",
       "      <td>37.299999</td>\n",
       "      <td>5.208295</td>\n",
       "    </tr>\n",
       "    <tr>\n",
       "      <th>2022-12-13</th>\n",
       "      <td>4019.65</td>\n",
       "      <td>38.110001</td>\n",
       "      <td>5.246262</td>\n",
       "    </tr>\n",
       "    <tr>\n",
       "      <th>2022-12-14</th>\n",
       "      <td>3995.32</td>\n",
       "      <td>37.410000</td>\n",
       "      <td>5.214508</td>\n",
       "    </tr>\n",
       "    <tr>\n",
       "      <th>2022-12-15</th>\n",
       "      <td>3895.75</td>\n",
       "      <td>34.630001</td>\n",
       "      <td>5.084554</td>\n",
       "    </tr>\n",
       "    <tr>\n",
       "      <th>2022-12-16</th>\n",
       "      <td>3852.36</td>\n",
       "      <td>33.369999</td>\n",
       "      <td>5.027923</td>\n",
       "    </tr>\n",
       "  </tbody>\n",
       "</table>\n",
       "<p>4922 rows × 3 columns</p>\n",
       "</div>"
      ],
      "text/plain": [
       "            SPX_Close  UPRO_Close  SPX_normalized\n",
       "Date                                             \n",
       "2009-06-26     918.90    1.199306        1.199306\n",
       "2009-06-27        NaN         NaN             NaN\n",
       "2009-06-28        NaN         NaN             NaN\n",
       "2009-06-29     927.23    1.233333        1.210178\n",
       "2009-06-30     919.32    1.203889        1.199854\n",
       "...               ...         ...             ...\n",
       "2022-12-12    3990.56   37.299999        5.208295\n",
       "2022-12-13    4019.65   38.110001        5.246262\n",
       "2022-12-14    3995.32   37.410000        5.214508\n",
       "2022-12-15    3895.75   34.630001        5.084554\n",
       "2022-12-16    3852.36   33.369999        5.027923\n",
       "\n",
       "[4922 rows x 3 columns]"
      ]
     },
     "execution_count": 30,
     "metadata": {},
     "output_type": "execute_result"
    }
   ],
   "source": [
    "df"
   ]
  },
  {
   "cell_type": "code",
   "execution_count": 81,
   "metadata": {},
   "outputs": [
    {
     "data": {
      "text/plain": [
       "3733.333333333333"
      ]
     },
     "execution_count": 81,
     "metadata": {},
     "output_type": "execute_result"
    }
   ],
   "source": [
    "(4/3) * ex_liq_decision_threshold"
   ]
  },
  {
   "cell_type": "code",
   "execution_count": 109,
   "metadata": {},
   "outputs": [],
   "source": [
    "gpv_series = pd.Series([None] * df.shape[0], index=df.index)\n",
    "nlv_series = pd.Series([None] * df.shape[0], index=df.index)\n",
    "cash_series = pd.Series([None] * df.shape[0], index=df.index)\n",
    "# iterate through each day from the beginning\n",
    "upro_yesterday_close = df.iloc[0].UPRO_Close\n",
    "gpv_series[df.index[0]] = init_gpv\n",
    "nlv_series[df.index[0]] = init_gpv + init_cash\n",
    "cash_series[df.index[0]] = init_cash\n",
    "gpv = init_gpv\n",
    "cash = init_cash\n",
    "# ex_liq = init_ex_liq\n",
    "margin_call_cushion = 1500 # extra amount (in dollars) that is sold in a margin call\n",
    "ex_liq_decision_threshold = 2800 # buy once excess liquidity reaches this value\n",
    "ex_liq_left_over = 1000 # amount of excess liquidity to leave over after buying\n",
    "for i, date in enumerate(df.index[1:]):\n",
    "    upro_today_close = df.loc[date, 'UPRO_Close']\n",
    "    # If stock market wasn't open on this day, only charge interest.\n",
    "    if pd.isnull(upro_today_close):\n",
    "        # charge daily interest\n",
    "        # (just assume all interest is charged at the first 100K rate)\n",
    "        days_in_year = pd.Timestamp(date.year, 12, 31).dayofyear\n",
    "        daily_int_rate = int_rate_100K / days_in_year\n",
    "        daily_interest = -daily_int_rate * cash\n",
    "        cash -= daily_interest\n",
    "    else:\n",
    "        pct_change = upro_today_close / upro_yesterday_close\n",
    "        upro_yesterday_close = upro_today_close # reset yesterday close value\n",
    "        gpv = pct_change * gpv # update gpv for change in share price\n",
    "        # nlv = gpv - cash # update nlv for change in share price\n",
    "        # equivalent to `gpv / nlv > max_margin_factor`\n",
    "        if gpv < -max_margin_factor * cash / (max_margin_factor - 1):\n",
    "            # sell just enough shares to get margin_factor < max_margin_factor,\n",
    "            # then add in $1000 worth of shares\n",
    "            min_sale_value = (gpv + max_margin_factor * cash / (max_margin_factor - 1)) / (1 - max_margin_factor / (max_margin_factor - 1))\n",
    "            # Don't worry about commissions or rounding to the nearest share for now,\n",
    "            # since these effects are negligible.\n",
    "            sale_value = min_sale_value + margin_call_cushion\n",
    "            gpv -= sale_value\n",
    "            cash += sale_value\n",
    "        # decide whether to invest more\n",
    "        max_purchase_value = max_margin_factor * cash + gpv * (max_margin_factor - 1)\n",
    "        # print(max_purchase_value)\n",
    "        if max_purchase_value > (4/3) * ex_liq_decision_threshold:\n",
    "            purchase_value = max_purchase_value - (4/3) * ex_liq_left_over\n",
    "            gpv += purchase_value\n",
    "            cash -= purchase_value\n",
    "            # __import__('pdb').set_trace()\n",
    "        # charge daily interest\n",
    "        # (just assume all interest is charged at the first 100K rate)\n",
    "        days_in_year = pd.Timestamp(date.year, 12, 31).dayofyear\n",
    "        daily_int_rate = int_rate_100K / days_in_year\n",
    "        daily_interest = -daily_int_rate * cash\n",
    "        cash -= daily_interest\n",
    "        # print(daily_interest)\n",
    "        # __import__('pdb').set_trace()\n",
    "    gpv_series[date] = gpv\n",
    "    nlv_series[date] = gpv + cash # note that cash is negative here\n",
    "    cash_series[date] = cash"
   ]
  },
  {
   "cell_type": "code",
   "execution_count": 110,
   "metadata": {},
   "outputs": [
    {
     "data": {
      "text/plain": [
       "3132206.7158470857"
      ]
     },
     "execution_count": 110,
     "metadata": {},
     "output_type": "execute_result"
    }
   ],
   "source": [
    "gpv"
   ]
  },
  {
   "cell_type": "code",
   "execution_count": 111,
   "metadata": {},
   "outputs": [
    {
     "data": {
      "text/plain": [
       "Date\n",
       "2009-06-26             89390\n",
       "2009-06-27      89385.549713\n",
       "2009-06-28      89381.098716\n",
       "2009-06-29       92703.34912\n",
       "2009-06-30      89820.258649\n",
       "                   ...      \n",
       "2022-12-12    2741140.195288\n",
       "2022-12-13    2820014.786307\n",
       "2022-12-14    2751107.797433\n",
       "2022-12-15     2479593.47313\n",
       "2022-12-16    2359713.228709\n",
       "Freq: D, Length: 4922, dtype: object"
      ]
     },
     "execution_count": 111,
     "metadata": {},
     "output_type": "execute_result"
    }
   ],
   "source": [
    "nlv_series"
   ]
  },
  {
   "cell_type": "code",
   "execution_count": 116,
   "metadata": {},
   "outputs": [
    {
     "data": {
      "text/plain": [
       "Date\n",
       "2009-06-26            117252\n",
       "2009-06-27            117252\n",
       "2009-06-28            117252\n",
       "2009-06-29     120578.702113\n",
       "2009-06-30      117700.06406\n",
       "                   ...      \n",
       "2022-12-12    3638909.701001\n",
       "2022-12-13    3743655.420809\n",
       "2022-12-14    3651980.007858\n",
       "2022-12-15    3291408.080069\n",
       "2022-12-16    3132206.715847\n",
       "Freq: D, Length: 4922, dtype: object"
      ]
     },
     "execution_count": 116,
     "metadata": {},
     "output_type": "execute_result"
    }
   ],
   "source": [
    "gpv_series"
   ]
  },
  {
   "cell_type": "code",
   "execution_count": 115,
   "metadata": {},
   "outputs": [
    {
     "data": {
      "text/plain": [
       "Date\n",
       "2009-06-26           -27862\n",
       "2009-06-27    -27866.450287\n",
       "2009-06-28    -27870.901284\n",
       "2009-06-29    -27875.352992\n",
       "2009-06-30    -27879.805412\n",
       "                  ...      \n",
       "2022-12-12   -897769.505713\n",
       "2022-12-13   -923640.634502\n",
       "2022-12-14   -900872.210425\n",
       "2022-12-15   -811814.606939\n",
       "2022-12-16   -772493.487138\n",
       "Freq: D, Length: 4922, dtype: object"
      ]
     },
     "execution_count": 115,
     "metadata": {},
     "output_type": "execute_result"
    }
   ],
   "source": [
    "cash_series"
   ]
  },
  {
   "cell_type": "code",
   "execution_count": 112,
   "metadata": {},
   "outputs": [
    {
     "data": {
      "text/plain": [
       "<AxesSubplot:xlabel='Date'>"
      ]
     },
     "execution_count": 112,
     "metadata": {},
     "output_type": "execute_result"
    },
    {
     "data": {
      "image/png": "[encoded data removed]",
      "text/plain": [
       "<Figure size 432x288 with 1 Axes>"
      ]
     },
     "metadata": {
      "needs_background": "light"
     },
     "output_type": "display_data"
    }
   ],
   "source": [
    "nlv_series.plot()"
   ]
  },
  {
   "cell_type": "code",
   "execution_count": 113,
   "metadata": {},
   "outputs": [
    {
     "data": {
      "text/plain": [
       "<AxesSubplot:xlabel='Date'>"
      ]
     },
     "execution_count": 113,
     "metadata": {},
     "output_type": "execute_result"
    },
    {
     "data": {
      "image/png": "[encoded data removed]",
      "text/plain": [
       "<Figure size 432x288 with 1 Axes>"
      ]
     },
     "metadata": {
      "needs_background": "light"
     },
     "output_type": "display_data"
    }
   ],
   "source": [
    "gpv_series.plot()"
   ]
  },
  {
   "cell_type": "code",
   "execution_count": 114,
   "metadata": {},
   "outputs": [
    {
     "data": {
      "text/plain": [
       "<AxesSubplot:xlabel='Date'>"
      ]
     },
     "execution_count": 114,
     "metadata": {},
     "output_type": "execute_result"
    },
    {
     "data": {
      "image/png": "[encoded data removed]",
      "text/plain": [
       "<Figure size 432x288 with 1 Axes>"
      ]
     },
     "metadata": {
      "needs_background": "light"
     },
     "output_type": "display_data"
    }
   ],
   "source": [
    "cash_series.plot()"
   ]
  },
  {
   "cell_type": "code",
   "execution_count": 45,
   "metadata": {},
   "outputs": [
    {
     "data": {
      "text/plain": [
       "Timestamp('2022-12-16 00:00:00', freq='D')"
      ]
     },
     "execution_count": 45,
     "metadata": {},
     "output_type": "execute_result"
    }
   ],
   "source": [
    "date"
   ]
  },
  {
   "cell_type": "code",
   "execution_count": 47,
   "metadata": {},
   "outputs": [
    {
     "data": {
      "text/plain": [
       "27.824424292048903"
      ]
     },
     "execution_count": 47,
     "metadata": {},
     "output_type": "execute_result"
    }
   ],
   "source": [
    "pct_change"
   ]
  },
  {
   "cell_type": "code",
   "execution_count": 46,
   "metadata": {},
   "outputs": [
    {
     "data": {
      "text/plain": [
       "inf"
      ]
     },
     "execution_count": 46,
     "metadata": {},
     "output_type": "execute_result"
    }
   ],
   "source": [
    "gpv"
   ]
  },
  {
   "cell_type": "code",
   "execution_count": 32,
   "metadata": {},
   "outputs": [
    {
     "data": {
      "text/plain": [
       "33.369999"
      ]
     },
     "execution_count": 32,
     "metadata": {},
     "output_type": "execute_result"
    }
   ],
   "source": [
    "upro_today_close"
   ]
  },
  {
   "cell_type": "code",
   "execution_count": 33,
   "metadata": {},
   "outputs": [
    {
     "data": {
      "text/plain": [
       "27.808333333333334"
      ]
     },
     "execution_count": 33,
     "metadata": {},
     "output_type": "execute_result"
    }
   ],
   "source": [
    "33.37 / 1.20"
   ]
  }
 ],
 "metadata": {
  "kernelspec": {
   "display_name": "Python 3.9.12 ('base')",
   "language": "python",
   "name": "python3"
  },
  "language_info": {
   "codemirror_mode": {
    "name": "ipython",
    "version": 3
   },
   "file_extension": ".py",
   "mimetype": "text/x-python",
   "name": "python",
   "nbconvert_exporter": "python",
   "pygments_lexer": "ipython3",
   "version": "3.9.12"
  },
  "orig_nbformat": 4,
  "vscode": {
   "interpreter": {
    "hash": "3d597f4c481aa0f25dceb95d2a0067e73c0966dcbd003d741d821a7208527ecf"
   }
  }
 },
 "nbformat": 4,
 "nbformat_minor": 2
}
